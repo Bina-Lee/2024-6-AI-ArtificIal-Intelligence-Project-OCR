{
 "cells": [
  {
   "cell_type": "code",
   "execution_count": null,
   "metadata": {},
   "outputs": [
    {
     "ename": "",
     "evalue": "",
     "output_type": "error",
     "traceback": [
      "\u001b[1;31m'Python 3.13.0'(으)로 셀을 실행하려면 ipykernel 패키지가 필요합니다.\n",
      "\u001b[1;31m다음 명령어를 실행하여 Python 환경에 'ipykernel'을(를) 설치합니다. \n",
      "\u001b[1;31m 명령: '/opt/homebrew/bin/python3 -m pip install ipykernel -U --user --force-reinstall'"
     ]
    }
   ],
   "source": [
    "import numpy as np\n",
    "from PIL import Image\n",
    "import matplotlib.pyplot as plt\n",
    "\n",
    "import preprocess\n",
    "import image_show\n",
    "\n",
    "# 예시 이미지 (64x64의 1비트 비트맵)\n",
    "# image = np.random.randint(0, 2, (64, 64))\n",
    "# image = Image.open(\"makeImage/exportImage/text00001.bmp\")\n",
    "image_path = \"makeImage/exportImage/text00001.bmp\"\n",
    "image_array = load_image(image_path)\n",
    "input_layer = preprocess_image(image_array)\n",
    "print(input_layer.shape)  # 출력: (256,)\n",
    "\n",
    "# 256개의 입력값을 16x16 형태로 출력\n",
    "input_layer_reshaped = input_layer.reshape((16, 16))\n",
    "print(\"16x16 형태로 출력된 입력값:\")\n",
    "print(input_layer_reshaped)\n",
    "\n",
    "# 1차원 배열로 출력\n",
    "print(\"\\n1차원 배열로 펼친 입력값:\")\n",
    "print(input_layer)\n",
    "\n",
    "show_input_as_image(input_layer)"
   ]
  }
 ],
 "metadata": {
  "kernelspec": {
   "display_name": "Python 3",
   "language": "python",
   "name": "python3"
  },
  "language_info": {
   "name": "python",
   "version": "3.13.0"
  }
 },
 "nbformat": 4,
 "nbformat_minor": 2
}
